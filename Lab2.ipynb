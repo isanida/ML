{
 "cells": [
  {
   "cell_type": "markdown",
   "metadata": {},
   "source": [
    "Jesse Eisses, Helena Russello, Ioanna Sanida\n",
    "# Lab 2: Classification\n",
    "\n",
    "### Machine Learning 1, September 2015\n",
    "\n",
    "* The lab exercises should be made in groups of two, three or four people.\n",
    "* The deadline is October 4th (Sunday) 23:59.\n",
    "* Assignment should be sent to Philip Versteeg (p.j.j.p.versteeg@uva.nl). The subject line of your email should be \"lab\\#\\_lastname1\\_lastname2\\_lastname3\".\n",
    "* Put your and your teammates' names in the body of the email\n",
    "* Attach the .IPYNB (IPython Notebook) file containing your code and answers. Naming of the file follows the same rule as the subject line. For example, if the subject line is \"lab01\\_Kingma\\_Hu\", the attached file should be \"lab01\\_Kingma\\_Hu.ipynb\". Only use underscores (\"\\_\") to connect names, otherwise the files cannot be parsed.\n",
    "\n",
    "Notes on implementation:\n",
    "\n",
    "* For this notebook you need to answer a few theory questions, add them in the Markdown cell's below the question. Note: you can use Latex-style code in here.\n",
    "* Focus on Part 1 the first week, and Part 2 the second week!\n",
    "* You should write your code and answers below the questions in this IPython Notebook.\n",
    "* Among the first lines of your notebook should be \"%pylab inline\". This imports all required modules, and your plots will appear inline.\n",
    "* If you have questions outside of the labs, post them on blackboard or email me.\n",
    "* NOTE: Make sure we can run your notebook / scripts!\n",
    "\n",
    "$\\newcommand{\\bx}{\\mathbf{x}}$\n",
    "$\\newcommand{\\bw}{\\mathbf{w}}$\n",
    "$\\newcommand{\\bt}{\\mathbf{t}}$\n",
    "$\\newcommand{\\by}{\\mathbf{y}}$\n",
    "$\\newcommand{\\bm}{\\mathbf{m}}$\n",
    "$\\newcommand{\\bb}{\\mathbf{b}}$\n",
    "$\\newcommand{\\bS}{\\mathbf{S}}$\n",
    "$\\newcommand{\\ba}{\\mathbf{a}}$\n",
    "$\\newcommand{\\bz}{\\mathbf{z}}$\n",
    "$\\newcommand{\\bv}{\\mathbf{v}}$\n",
    "$\\newcommand{\\bq}{\\mathbf{q}}$\n",
    "$\\newcommand{\\bp}{\\mathbf{p}}$\n",
    "$\\newcommand{\\bh}{\\mathbf{h}}$\n",
    "$\\newcommand{\\bI}{\\mathbf{I}}$\n",
    "$\\newcommand{\\bX}{\\mathbf{X}}$\n",
    "$\\newcommand{\\bT}{\\mathbf{T}}$\n",
    "$\\newcommand{\\bPhi}{\\mathbf{\\Phi}}$\n",
    "$\\newcommand{\\bW}{\\mathbf{W}}$\n",
    "$\\newcommand{\\bV}{\\mathbf{V}}$"
   ]
  },
  {
   "cell_type": "code",
   "execution_count": 1,
   "metadata": {
    "collapsed": false
   },
   "outputs": [
    {
     "name": "stdout",
     "output_type": "stream",
     "text": [
      "Populating the interactive namespace from numpy and matplotlib\n"
     ]
    }
   ],
   "source": [
    "%pylab inline\n",
    "import gzip, cPickle"
   ]
  },
  {
   "cell_type": "markdown",
   "metadata": {},
   "source": [
    "# Part 1. Multiclass logistic regression\n",
    "\n",
    "Scenario: you have a friend with one big problem: she's completely blind. You decided to help her: she has a special smartphone for blind people, and you are going to develop a mobile phone app that can do _machine vision_ using the mobile camera: converting a picture (from the camera) to the meaning of the image. You decide to start with an app that can read handwritten digits, i.e. convert an image of handwritten digits to text (e.g. it would enable her to read precious handwritten phone numbers).\n",
    "\n",
    "A key building block for such an app would be a function `predict_digit(x)` that returns the digit class of an image patch $\\bx$. Since hand-coding this function is highly non-trivial, you decide to solve this problem using machine learning, such that the internal parameters of this function are automatically learned using machine learning techniques.\n",
    "\n",
    "The dataset you're going to use for this is the MNIST handwritten digits dataset (`http://yann.lecun.com/exdb/mnist/`). You can load the data from `mnist.pkl.gz` we provided, using: "
   ]
  },
  {
   "cell_type": "code",
   "execution_count": 5,
   "metadata": {
    "collapsed": false
   },
   "outputs": [],
   "source": [
    "def load_mnist():\n",
    "    f = gzip.open('mnist.pkl.gz', 'rb')\n",
    "    data = cPickle.load(f)\n",
    "    f.close()\n",
    "    return data\n",
    "\n",
    "(x_train, t_train), (x_valid, t_valid), (x_test, t_test) = load_mnist()"
   ]
  },
  {
   "cell_type": "markdown",
   "metadata": {},
   "source": [
    "The tuples represent train, validation and test sets. The first element (`x_train`, `x_valid`, `x_test`) of each tuple is a $N \\times M$ matrix, where $N$ is the number of datapoints and $M = 28^2 = 784$ is the dimensionality of the data. The second element (`t_train`, `t_valid`, `t_test`) of each tuple is the corresponding $N$-dimensional vector of integers, containing the true class labels.\n",
    "\n",
    "Here's a visualisation of the first 8 digits of the trainingset:"
   ]
  },
  {
   "cell_type": "code",
   "execution_count": 4,
   "metadata": {
    "collapsed": false
   },
   "outputs": [
    {
     "name": "stderr",
     "output_type": "stream",
     "text": [
      "/usr/lib/python2.7/dist-packages/matplotlib/axes/_subplots.py:69: MatplotlibDeprecationWarning: The use of 0 (which ends up being the _last_ sub-plot) is deprecated in 1.4 and will raise an error in 1.5\n",
      "  mplDeprecation)\n"
     ]
    },
    {
     "data": {
      "image/png": "[encoded data removed]",
      "text/plain": [
       "<matplotlib.figure.Figure at 0x7f78ab902ed0>"
      ]
     },
     "metadata": {},
     "output_type": "display_data"
    }
   ],
   "source": [
    "def plot_digits(data, numcols, shape=(28,28)):\n",
    "    numdigits = data.shape[0]\n",
    "    numrows = int(numdigits/numcols)\n",
    "    for i in range(numdigits):\n",
    "        plt.subplot(numrows, numcols, i)\n",
    "        plt.axis('off')\n",
    "        plt.imshow(data[i].reshape(shape), interpolation='nearest', cmap='Greys')\n",
    "    plt.show()\n",
    "    \n",
    "plot_digits(x_train[0:8], numcols=4)"
   ]
  },
  {
   "cell_type": "markdown",
   "metadata": {},
   "source": [
    "In _multiclass_ logistic regression, the conditional probability of class label $j$ given the image $\\bx$ for some datapoint is given by:\n",
    "\n",
    "$ \\log p(t = j \\;|\\; \\bx, \\bb, \\bW) = \\log q_j - \\log Z$\n",
    "\n",
    "where $\\log q_j = \\bw_j^T \\bx + b_j$ (the log of the unnormalized probability of the class $j$), and $Z = \\sum_k q_k$ is the normalizing factor. $\\bw_j$ is the $j$-th column of $\\bW$ (a matrix of size $784 \\times 10$) corresponding to the class label, $b_j$ is the $j$-th element of $\\bb$.\n",
    "\n",
    "Given an input image, the multiclass logistic regression model first computes the intermediate vector $\\log \\bq$ (of size $10 \\times 1$), using $\\log q_j = \\bw_j^T \\bx + b_j$, containing the unnormalized log-probabilities per class. \n",
    "\n",
    "The unnormalized probabilities are then normalized by $Z$ such that $\\sum_j p_j = \\sum_j \\exp(\\log p_j) = 1$. This is done by $\\log p_j = \\log q_j - \\log Z$ where $Z = \\sum_j \\exp(\\log q_j)$. This is known as the _softmax_ transformation, and is also used as a last layer of many classifcation neural network models, to ensure that the output of the network is a normalized distribution, regardless of the values of second-to-last layer ($\\log \\bq$)\n",
    "\n",
    "Warning: when computing $\\log Z$, you are likely to encounter numerical problems. Save yourself countless hours of debugging and learn the [log-sum-exp trick](https://hips.seas.harvard.edu/blog/2013/01/09/computing-log-sum-exp/ \"Title\").\n",
    "\n",
    "The network's output $\\log \\bp$ of size $10 \\times 1$ then contains the conditional log-probabilities $\\log p(t = j \\;|\\; \\bx, \\bb, \\bW)$ for each digit class $j$. In summary, the computations are done in this order:\n",
    "\n",
    "$\\bx \\rightarrow \\log \\bq \\rightarrow Z \\rightarrow \\log \\bp$\n",
    "\n",
    "Given some dataset with $N$ independent, identically distributed datapoints, the log-likelihood is given by:\n",
    "\n",
    "$ \\mathcal{L}(\\bb, \\bW) = \\sum_{n=1}^N \\mathcal{L}^{(n)}$\n",
    "\n",
    "where we use $\\mathcal{L}^{(n)}$ to denote the partial log-likelihood evaluated over a single datapoint. It is important to see that the log-probability of the class label $t^{(n)}$ given the image, is given by the $t^{(n)}$-th element of the network's output $\\log \\bp$, denoted by $\\log p_{t^{(n)}}$:\n",
    "\n",
    "$\\mathcal{L}^{(n)} = \\log p(t = t^{(n)} \\;|\\; \\bx = \\bx^{(n)}, \\bb, \\bW) = \\log p_{t^{(n)}} = \\log q_{t^{(n)}} - \\log Z^{(n)}$\n",
    "\n",
    "where $\\bx^{(n)}$ and $t^{(n)}$ are the input (image) and class label (integer) of the $n$-th datapoint, and $Z^{(n)}$ is the normalizing constant for the distribution over $t^{(n)}$.\n"
   ]
  },
  {
   "cell_type": "markdown",
   "metadata": {},
   "source": [
    "## 1.1 Gradient-based stochastic optimization\n",
    "\n",
    "### 1.1.1 Derive gradient equations (20 points)\n",
    "\n",
    "Derive the equations for computing the (first) partial derivatives of the log-likelihood w.r.t. all the parameters, evaluated at a _single_ datapoint $n$.\n",
    "\n",
    "You should start deriving the equations for $\\frac{\\partial \\mathcal{L}^{(n)}}{\\partial \\log q_j}$ for each $j$. For clarity, we'll use the shorthand $\\delta^q_j = \\frac{\\partial \\mathcal{L}^{(n)}}{\\partial \\log q_j}$.\n",
    "\n",
    "For $j = t^{(n)}$:\n",
    "$\n",
    "\\delta^q_j\n",
    "= \\frac{\\partial \\mathcal{L}^{(n)}}{\\partial \\log p_j}\n",
    "\\frac{\\partial \\log p_j}{\\partial \\log q_j}\n",
    "+ \\frac{\\partial \\mathcal{L}^{(n)}}{\\partial \\log Z}\n",
    "\\frac{\\partial \\log Z}{\\partial Z} \n",
    "\\frac{\\partial Z}{\\partial \\log q_j} \n",
    "= 1 \\cdot 1 - \\frac{\\partial \\log Z}{\\partial Z} \n",
    "\\frac{\\partial Z}{\\partial \\log q_j}\n",
    "= 1 - \\frac{\\partial \\log Z}{\\partial Z} \n",
    "\\frac{\\partial Z}{\\partial \\log q_j}\n",
    "$\n",
    "\n",
    "For $j \\neq t^{(n)}$:\n",
    "$\n",
    "\\delta^q_j\n",
    "= \\frac{\\partial \\mathcal{L}^{(n)}}{\\partial \\log Z}\n",
    "\\frac{\\partial \\log Z}{\\partial Z} \n",
    "\\frac{\\partial Z}{\\partial \\log q_j} \n",
    "= - \\frac{\\partial \\log Z}{\\partial Z} \n",
    "\\frac{\\partial Z}{\\partial \\log q_j}\n",
    "$\n",
    "\n",
    "Complete the above derivations for $\\delta^q_j$ by furtherly developing $\\frac{\\partial \\log Z}{\\partial Z}$ and $\\frac{\\partial Z}{\\partial \\log q_j}$. Both are quite simple. For these it doesn't matter whether $j = t^{(n)}$ or not.\n",
    "\n",
    "Given your equations for computing the gradients $\\delta^q_j$ it should be quite straightforward to derive the equations for the gradients of the parameters of the model, $\\frac{\\partial \\mathcal{L}^{(n)}}{\\partial W_{ij}}$ and $\\frac{\\partial \\mathcal{L}^{(n)}}{\\partial b_j}$. The gradients for the biases $\\bb$ are given by:\n",
    "\n",
    "$\n",
    "\\frac{\\partial \\mathcal{L}^{(n)}}{\\partial b_j}\n",
    "= \\frac{\\partial \\mathcal{L}^{(n)}}{\\partial \\log q_j}\n",
    "\\frac{\\partial \\log q_j}{\\partial b_j}\n",
    "= \\delta^q_j\n",
    "\\cdot 1\n",
    "= \\delta^q_j\n",
    "$\n",
    "\n",
    "The equation above gives the derivative of $\\mathcal{L}^{(n)}$ w.r.t. a single element of $\\bb$, so the vector $\\nabla_\\bb \\mathcal{L}^{(n)}$ with all derivatives of $\\mathcal{L}^{(n)}$ w.r.t. the bias parameters $\\bb$ is: \n",
    "\n",
    "$\n",
    "\\nabla_\\bb \\mathcal{L}^{(n)} = \\mathbf{\\delta}^q\n",
    "$\n",
    "\n",
    "where $\\mathbf{\\delta}^q$ denotes the vector of size $10 \\times 1$ with elements $\\mathbf{\\delta}_j^q$.\n",
    "\n",
    "The (not fully developed) equation for computing the derivative of $\\mathcal{L}^{(n)}$ w.r.t. a single element $W_{ij}$ of $\\bW$ is:\n",
    "\n",
    "$\n",
    "\\frac{\\partial \\mathcal{L}^{(n)}}{\\partial W_{ij}} =\n",
    "\\frac{\\partial \\mathcal{L}^{(n)}}{\\partial \\log q_j}\n",
    "\\frac{\\partial \\log q_j}{\\partial W_{ij}}\n",
    "= \\mathbf{\\delta}_j^q\n",
    "\\frac{\\partial \\log q_j}{\\partial W_{ij}}\n",
    "$\n",
    "\n",
    "What is $\\frac{\\partial \\log q_j}{\\partial W_{ij}}$? Complete the equation above.\n",
    "\n",
    "If you want, you can give the resulting equation in vector format ($\\nabla_{\\bw_j} \\mathcal{L}^{(n)} = ...$), like we did for $\\nabla_\\bb \\mathcal{L}^{(n)}$.\n",
    "\n",
    "#####Answer: "
   ]
  },
  {
   "cell_type": "markdown",
   "metadata": {},
   "source": [
    "\n",
    "$\\frac{\\partial \\log Z}{\\partial Z} = \\frac{1}{Z}$ \n",
    "\n",
    "$Z = \\sum_i \\exp(\\log q_i)$, so:\n",
    "\n",
    "$\\frac{\\partial Z}{\\partial \\log q_j} = \\frac{\\partial}{\\partial \\log q_j} \\sum_i \\exp(\\log q_i) = \\frac{\\partial}{\\partial \\log q_j} \\exp(\\log q_j) = q_j$\n",
    "\n",
    "Filling in the equations:\n",
    "\n",
    "For $j = t^{(n)}$:\n",
    "$\n",
    "\\delta^q_j\n",
    "= 1 - \\frac{\\partial \\log Z}{\\partial Z} \n",
    "\\frac{\\partial Z}{\\partial \\log q_j}\n",
    "= 1 - \\frac{q_j}{Z}\n",
    "$\n",
    "\n",
    "For $j \\neq t^{(n)}$:\n",
    "$\n",
    "\\delta^q_j \n",
    "= - \\frac{\\partial \\log Z}{\\partial Z} \n",
    "\\frac{\\partial Z}{\\partial \\log q_j}\n",
    "= - \\frac{q_j}{Z}\n",
    "$\n",
    "\n",
    "\n",
    "$W_{ij}$ is element $i$ in the $\\mathbf{w}_j$ vector, so:\n",
    "$\\frac{\\partial \\log q_j}{\\partial W_{ij}} = \\frac{\\partial}{\\partial W_{ij}} \\mathbf{w}_j^T \\mathbf{x} + b_j = x_i$\n",
    "\n",
    "So:\n",
    "$\n",
    "\\frac{\\partial \\mathcal{L}^{(n)}}{\\partial W_{ij}}\n",
    "= \\mathbf{\\delta}_j^q\n",
    "\\frac{\\partial \\log q_j}{\\partial W_{ij}}\n",
    "= \\mathbf{\\delta}_j^q x_i\n",
    "$"
   ]
  },
  {
   "cell_type": "markdown",
   "metadata": {},
   "source": [
    "### 1.1.2 Implement gradient computations (10 points)\n",
    "\n",
    "Implement the gradient calculations you derived in the previous question. Write a function `logreg_gradient(x, t, w, b)` that returns the gradients $\\nabla_{\\bw_j} \\mathcal{L}^{(n)}$ (for each $j$) and $\\nabla_{\\bb} \\mathcal{L}^{(n)}$, i.e. the first partial derivatives of the log-likelihood w.r.t. the parameters $\\bW$ and $\\bb$, evaluated at a single datapoint (`x`, `t`).\n",
    "The computation will contain roughly the following intermediate variables:\n",
    "\n",
    "$\n",
    "\\log \\bq \\rightarrow Z \\rightarrow \\log \\bp\\,,\\, \\mathbf{\\delta}^q\n",
    "$\n",
    "\n",
    "followed by computation of the gradient vectors $\\nabla_{\\bw_j} \\mathcal{L}^{(n)}$ (contained in a $784 \\times 10$ matrix) and $\\nabla_{\\bb} \\mathcal{L}^{(n)}$ (a $10 \\times 1$ vector).\n"
   ]
  },
  {
   "cell_type": "code",
   "execution_count": 83,
   "metadata": {
    "collapsed": false
   },
   "outputs": [],
   "source": [
    "def logreg_gradient(x, t, W, b):\n",
    "    \"\"\"Calculates the gradients for logistic regression\"\"\"\n",
    "    log_q = [x.dot(W[:,j]) + b[j] for j in range(W.shape[1])]\n",
    "    a = np.max(log_q)\n",
    "    log_Z = a + np.log(sum(exp(log_q - a)))\n",
    "    \n",
    "    #Z = a + np.sum(np.exp(log_q - a))\n",
    "    log_p = log_q - log_Z\n",
    "    #dq = -1 * np.exp(log_q) / Z\n",
    "    dq = -1 * np.exp(log_p)\n",
    "    #dq[t] = 1 - np.exp(log_q[t]) / Z\n",
    "    dq[t] = 1- np.exp(log_p[t])\n",
    "    \n",
    "    dLw = dq * x[:, np.newaxis]\n",
    "    dLb = dq\n",
    "    return dLw, dLb, log_p[t]"
   ]
  },
  {
   "cell_type": "markdown",
   "metadata": {},
   "source": [
    "\n",
    "### 1.1.3 Stochastic gradient descent (10 points)\n",
    "\n",
    "Write a function `sgd_iter(x_train, t_train, w, b)` that performs one iteration of stochastic gradient descent (SGD), and returns the new weights. It should go through the trainingset once in randomized order, call `logreg_gradient(x, t, w, b)` for each datapoint to get the gradients, and update the parameters using a small learning rate (e.g. `1E-4`). Note that in this case we're maximizing the likelihood function, so we should actually performing gradient ___ascent___... For more information about SGD, see Bishop 5.2.4 or an online source (i.e. https://en.wikipedia.org/wiki/Stochastic_gradient_descent)"
   ]
  },
  {
   "cell_type": "code",
   "execution_count": 95,
   "metadata": {
    "collapsed": false
   },
   "outputs": [],
   "source": [
    "def sgd_iter(x_train, t_train, W, b): \n",
    "    \"\"\"Performs 1 iteration of SGD\"\"\"\n",
    "    # Learning rate\n",
    "    lr = 0.0001\n",
    "    # Loop through train data in random order\n",
    "    rand_order =  range(len(t_train))\n",
    "    np.random.shuffle(rand_order)\n",
    "    rand_order = np.random.choice(rand_order, len(rand_order))\n",
    "    log_p_iter = 0 # store the log_p values, we need them later\n",
    "    for i in rand_order:\n",
    "        dLw, dLb, log_p = logreg_gradient(x_train[i,:], t_train[i], W, b)\n",
    "        W = W + np.multiply(lr,dLw)\n",
    "        b = b + np.multiply(lr,dLb)\n",
    "        log_p_iter +=log_p\n",
    "    return W, b, log_p_iter\n",
    "            "
   ]
  },
  {
   "cell_type": "markdown",
   "metadata": {},
   "source": [
    "## 1.2. Train\n",
    "\n",
    "### 1.2.1 Train (10 points)\n",
    "Perform a handful of training iterations through the trainingset. Plot (in one graph) the conditional log-probability of the trainingset and validation set after each iteration.\n"
   ]
  },
  {
   "cell_type": "code",
   "execution_count": 100,
   "metadata": {
    "collapsed": false
   },
   "outputs": [
    {
     "name": "stdout",
     "output_type": "stream",
     "text": [
      "iter 0\n",
      "iter 1\n",
      "iter 2\n",
      "iter 3\n",
      "iter 4\n",
      "iter 5\n",
      "iter 6\n",
      "iter 7\n",
      "iter 8\n",
      "iter 9\n"
     ]
    }
   ],
   "source": [
    "def validate(W, b):\n",
    "    \"\"\"Calculates log p values of model W,b on validation set\"\"\"\n",
    "    log_p = 0\n",
    "    for i in range(len(t_valid)):\n",
    "        W_v, b_v, log_p_v = logreg_gradient(x_valid[i,:], t_valid[i], W, b)\n",
    "        log_p +=log_p_v\n",
    "    return log_p\n",
    "\n",
    "handful = 10 # nr of iterations\n",
    "W = np.zeros([784, 10]) # start with an empty weight matrix\n",
    "b = np.zeros(10)\n",
    "\n",
    "log_likelihoods_train = []\n",
    "log_likelihoods_valid = []\n",
    "\n",
    "for n in range(handful):\n",
    "    print \"iter \" + str(n)\n",
    "    W, b, log_p = sgd_iter(x_train, t_train, W, b)\n",
    "    #print str(np.round(log_p))\n",
    "    log_likelihoods_train.append(log_p)\n",
    "    log_likelihoods_valid.append(validate(W,b))"
   ]
  },
  {
   "cell_type": "code",
   "execution_count": 102,
   "metadata": {
    "collapsed": false
   },
   "outputs": [
    {
     "name": "stdout",
     "output_type": "stream",
     "text": [
      "50000\n",
      "10000\n"
     ]
    },
    {
     "data": {
      "text/plain": [
       "<matplotlib.legend.Legend at 0x7f78aa0ccfd0>"
      ]
     },
     "execution_count": 102,
     "metadata": {},
     "output_type": "execute_result"
    },
    {
     "data": {
      "image/png": "[encoded data removed]",
      "text/plain": [
       "<matplotlib.figure.Figure at 0x7f78aa1a1b90>"
      ]
     },
     "metadata": {},
     "output_type": "display_data"
    }
   ],
   "source": [
    "# Normalize the data\n",
    "log_likelihoods_train_norm = np.asarray(log_likelihoods_train) / x_train.shape[0]\n",
    "log_likelihoods_valid_norm = np.asarray(log_likelihoods_valid) / x_valid.shape[0]\n",
    "\n",
    "# Plot\n",
    "xlabel(\"iteration\")\n",
    "ylabel(\"log-likelihood\")\n",
    "plot(range(len(log_likelihoods_train)),log_likelihoods_train_norm, color='blue', label=\"training\")\n",
    "plot(range(len(log_likelihoods_train)),log_likelihoods_train_norm, 'o', color='blue')\n",
    "plot(range(len(log_likelihoods_valid)),log_likelihoods_valid_norm, color='red', label=\"validation\")\n",
    "plot(range(len(log_likelihoods_valid)),log_likelihoods_valid_norm, 'o', color='red')\n",
    "legend(loc=4)"
   ]
  },
  {
   "cell_type": "markdown",
   "metadata": {},
   "source": [
    "### 1.2.2 Visualize weights (10 points)\n",
    "Visualize the resulting parameters $\\bW$ after a few iterations through the training set, by treating each column of $\\bW$ as an image. If you want, you can use or edit the `plot_digits(...)` above."
   ]
  },
  {
   "cell_type": "code",
   "execution_count": 103,
   "metadata": {
    "collapsed": false
   },
   "outputs": [
    {
     "data": {
      "image/png": "[encoded data removed]",
      "text/plain": [
       "<matplotlib.figure.Figure at 0x7f78aa1adb10>"
      ]
     },
     "metadata": {},
     "output_type": "display_data"
    }
   ],
   "source": [
    "figure(figsize=(9,9), dpi=150)\n",
    "for j in range(10):\n",
    "    subplot(2,5,j+1)\n",
    "    title(\"$j=\"+str(j)+\"$\")\n",
    "    axis('off')\n",
    "    imshow(reshape(W[:,j],(28,28)), interpolation='nearest', cmap=\"Greys\")\n",
    "tight_layout()\n",
    "show()"
   ]
  },
  {
   "cell_type": "markdown",
   "metadata": {},
   "source": [
    "### 1.2.3. Visualize the 8 hardest and 8 easiest digits (10 points)\n",
    "Visualize the 8 digits in the validation set with the highest probability of the true class label under the model.\n",
    "Also plot the 8 digits that were assigned the lowest probability.\n",
    "Ask yourself if these results make sense."
   ]
  },
  {
   "cell_type": "code",
   "execution_count": 113,
   "metadata": {
    "collapsed": false
   },
   "outputs": [
    {
     "data": {
      "image/png": "[encoded data removed]",
      "text/plain": [
       "<matplotlib.figure.Figure at 0x7f78a6a04a90>"
      ]
     },
     "metadata": {},
     "output_type": "display_data"
    }
   ],
   "source": [
    "WT = np.matrix.transpose(W)\n",
    "prob_valid_true = np.asarray([(WT.dot(x_valid[i,:])+b)[t_valid[i]] for i in range(x_valid.shape[0])])\n",
    "sorted_prob_indices = np.argsort(prob_valid_true)\n",
    "best_probs = sorted_prob_indices[-8:]\n",
    "worst_probs = sorted_prob_indices[:8]\n",
    "\n",
    "indices = np.concatenate((best_probs, worst_probs))\n",
    "figure(figsize=(15,9), dpi=72)\n",
    "for i,j in enumerate(indices):\n",
    "    subplot(2,8,i+1)\n",
    "    title(\"$i=\"+str(j)+\"\\; t=\"+str(t_valid[j])+\"$\")\n",
    "    #title(\"prob=\"+str(prob_valid_true[i]))\n",
    "    axis('off')\n",
    "    imshow(reshape(x_valid[j,:],(28,28)), interpolation='nearest', cmap=\"Greys\")\n",
    "show()"
   ]
  },
  {
   "cell_type": "markdown",
   "metadata": {},
   "source": [
    "# Part 2. Multilayer perceptron\n",
    "\n",
    "\n",
    "You discover that the predictions by the logistic regression classifier are not good enough for your application: the model is too simple. You want to increase the accuracy of your predictions by using a better model. For this purpose, you're going to use a multilayer perceptron (MLP), a simple kind of neural network. The perceptron wil have a single hidden layer $\\bh$ with $L$ elements. The parameters of the model are $\\bV$ (connections between input $\\bx$ and hidden layer $\\bh$), $\\ba$ (the biases/intercepts of $\\bh$), $\\bW$ (connections between $\\bh$ and $\\log q$) and $\\bb$ (the biases/intercepts of $\\log q$.\n",
    "\n",
    "The conditional probability of the class label $j$ is given by:\n",
    "\n",
    "$\\log p(t = j \\;|\\; \\bx, \\bb, \\bW) = \\log q_j - \\log Z$\n",
    "\n",
    "where $q_j$ are again the unnormalized probabilities per class, and $Z = \\sum_j q_j$ is again the probability normalizing factor. Each $q_j$ is computed using:\n",
    "\n",
    "$\\log q_j = \\bw_j^T \\bh + b_j$\n",
    "\n",
    "where $\\bh$ is a $L \\times 1$ vector with the hidden layer activations (of a hidden layer with size $L$), and $\\bw_j$ is the $j$-th column of $\\bW$ (a $L \\times 10$ matrix). Each element of the hidden layer is computed from the input vector $\\bx$ using:\n",
    "\n",
    "$h_j = \\sigma(\\bv_j^T \\bx + a_j)$\n",
    "\n",
    "where $\\bv_j$ is the $j$-th column of $\\bV$ (a $784 \\times L$ matrix), $a_j$ is the $j$-th element of $\\ba$, and $\\sigma(.)$ is the so-called sigmoid activation function, defined by:\n",
    "\n",
    "$\\sigma(x) = \\frac{1}{1 + \\exp(-x)}$\n",
    "\n",
    "Note that this model is almost equal to the multiclass logistic regression model, but with an extra 'hidden layer' $\\bh$. The activations of this hidden layer can be viewed as features computed from the input, where the feature transformation ($\\bV$ and $\\ba$) is learned.\n",
    "\n",
    "## 2.1 Derive gradient equations (20 points)\n",
    "\n",
    "State (shortly) why $\\nabla_{\\bb} \\mathcal{L}^{(n)}$ is equal to the earlier (multiclass logistic regression) case, and why $\\nabla_{\\bw_j} \\mathcal{L}^{(n)}$ is almost equal to the earlier case.\n",
    "\n",
    "Like in multiclass logistic regression, you should use intermediate variables $\\mathbf{\\delta}_j^q$. In addition, you should use intermediate variables $\\mathbf{\\delta}_j^h = \\frac{\\partial \\mathcal{L}^{(n)}}{\\partial h_j}$.\n",
    "\n",
    "Given an input image, roughly the following intermediate variables should be computed:\n",
    "\n",
    "$\n",
    "\\log \\bq \\rightarrow Z \\rightarrow \\log \\bp \\rightarrow \\mathbf{\\delta}^q \\rightarrow \\mathbf{\\delta}^h\n",
    "$\n",
    "\n",
    "where $\\mathbf{\\delta}_j^h = \\frac{\\partial \\mathcal{L}^{(n)}}{\\partial \\bh_j}$.\n",
    "\n",
    "Give the equations for computing $\\mathbf{\\delta}^h$, and for computing the derivatives of $\\mathcal{L}^{(n)}$ w.r.t. $\\bW$, $\\bb$, $\\bV$ and $\\ba$. \n",
    "\n",
    "You can use the convenient fact that $\\frac{\\partial}{\\partial x} \\sigma(x) = \\sigma(x) (1 - \\sigma(x))$.\n",
    "\n",
    "#####Answer: "
   ]
  },
  {
   "cell_type": "markdown",
   "metadata": {},
   "source": [
    "The hidden layer $\\mathbf{h}$ does not depend on $\\mathbf{b}$, so $\\nabla_{\\mathbf{b}} \\mathcal{L}^{(n)}$ is the same for both models.\n",
    "\n",
    "$\\nabla_{\\mathbf{w}_j} \\mathcal{L}^{(n)}$ is similar to the logistic regression model, as in the perceptron model only the activation function $\\mathbf{h}$, which goes through the sigmoid function.\n",
    "\n",
    "Calculation of all partial derivatives:\n",
    "\n",
    "$\\mathbf{\\delta}^h = \\frac{\\partial \\mathcal{L}^{(n)}}{\\partial \\mathbf{h}} = \\frac{\\partial \\mathcal{L}^{n}}{\\partial \\log q} \\frac{\\partial \\log q}{\\partial \\mathbf{h}} = \\delta^q \\frac{\\partial}{\\partial \\mathbf{h}} \\left( \\mathbf{W}^T \\mathbf{h} + \\mathbf{b} \\right) = \\delta^q \\mathbf{W}^T$\n",
    "\n",
    "$\\mathbf{\\delta}^W = \\frac{\\partial \\mathcal{L}^{(n)}}{\\partial \\mathbf{W}} \n",
    "= \\frac{\\partial \\mathcal{L}^{n}}{\\partial \\log q} \\frac{\\partial \\log q}{\\partial \\mathbf{W}} \n",
    "= \\delta^q \\frac{\\partial}{\\partial \\mathbf{W}} \\left( \\mathbf{W}^T \\mathbf{h} + \\mathbf{b} \\right) \n",
    "= \\delta^q \\mathbf{h}^T$\n",
    "\n",
    "$\\mathbf{\\delta}^b = \\frac{\\partial \\mathcal{L}^{(n)}}{\\partial \\mathbf{b}} = \\delta^q$ (same as before)\n",
    "\n",
    "$\\mathbf{\\delta}^V = \\frac{\\partial \\mathcal{L}^{(n)}}{\\partial \\mathbf{V}} \n",
    "= \\frac{\\partial \\mathcal{L}^{n}}{\\partial \\mathbf{h}} \\frac{\\partial \\mathbf{h}}{\\partial \\mathbf{V}}  \n",
    "= \\delta^h \\frac{\\partial}{\\partial V} \\left( \\sigma (\\mathbf{V}^T \\mathbf{x} + \\mathbf{a}) \\right)\n",
    "= \\delta^h \\mathbf{x} \\left( \\sigma (\\mathbf{V}^T \\mathbf{x} + \\mathbf{a}) \\right) \\left(1 - \\sigma (\\mathbf{V}^T \\mathbf{x} + \\mathbf{a}) \\right) $\n",
    "\n",
    "$\\mathbf{\\delta}^a = \\frac{\\partial \\mathcal{L}^{(n)}}{\\partial \\mathbf{a}}\n",
    "=\\frac{\\partial \\mathcal{L}^{n}}{\\partial \\mathbf{h}} \\frac{\\partial \\mathbf{h}}{\\partial \\mathbf{a}} \n",
    "= \\delta^h \\frac{\\partial}{\\partial \\mathbf{a}} \\left( \\sigma (\\mathbf{V}^T \\mathbf{x} + \\mathbf{a}) \\right)\n",
    "= \\delta^h \\left( \\sigma (\\mathbf{V}^T \\mathbf{x} + \\mathbf{a}) \\right) \\left(1 - \\sigma (\\mathbf{V}^T \\mathbf{x} + \\mathbf{a}) \\right)\n",
    "$ \n"
   ]
  },
  {
   "cell_type": "markdown",
   "metadata": {},
   "source": [
    "## 2.2 MAP optimization (10 points)\n",
    "\n",
    "You derived equations for finding the _maximum likelihood_ solution of the parameters. Explain, in a few sentences, how you could extend this approach so that it optimizes towards a _maximum a posteriori_ (MAP) solution of the parameters, with a Gaussian prior on the parameters. \n",
    "\n",
    "#####Answer: "
   ]
  },
  {
   "cell_type": "markdown",
   "metadata": {},
   "source": [
    "Use the Likehlihood and the Gaussian Prior to calculate the Posterior distribution, than opztimize the parameters of the posterior like with the stochastic gradien descent ???"
   ]
  },
  {
   "cell_type": "markdown",
   "metadata": {},
   "source": [
    "## 2.3. Implement and train a MLP (15 points)\n",
    "\n",
    "Implement a MLP model with a single hidden layer, and code to train the model."
   ]
  },
  {
   "cell_type": "code",
   "execution_count": 3,
   "metadata": {
    "collapsed": false
   },
   "outputs": [],
   "source": [
    "def sigmoid_vec(v):\n",
    "    \"\"\"Applies sigmoid function on a vector\"\"\"\n",
    "    return [1.0 / (1.0 + math.exp(-1.0 * x)) for x in v]\n",
    "\n",
    "def mlp_gradient(x, t, V, a, W, b):\n",
    "    \"\"\"Calculate the MLP gradients for a sample x\"\"\"\n",
    "    h = np.asarray(sigmoid_vec(np.dot(V.T, x) + a))\n",
    "    log_q = np.dot(W.T, h) + b\n",
    "    # calc log Z with log / sum / exp trick\n",
    "    a = np.max(log_q)\n",
    "    log_Z = a + np.log(sum(exp(log_q - a)))\n",
    "    log_p = log_q - log_Z\n",
    "    # derivatives:\n",
    "    dq = -1 * np.exp(log_p)\n",
    "    dq[t] = 1 - np.exp(log_p[t])\n",
    "    dh = np.dot(dq, W.T)\n",
    "    dW = np.outer(h, dq)\n",
    "    db = dq\n",
    "    dV = np.outer(x, dh * h * (1.0 - h))\n",
    "    da = dh * h * (1 - h)\n",
    "    return dV, da, dW, db\n",
    "    \n",
    "def mlp_sgd_iter(x_train, t_train, V, a, W, b):\n",
    "    \"\"\"Performs 1 iteration of stochastic gradient descent for MLP\"\"\"\n",
    "    lr = 0.1\n",
    "    rand_order =  range(len(t_train))\n",
    "    np.random.shuffle(rand_order)\n",
    "    rand_order = np.random.choice(rand_order, len(rand_order))\n",
    "    for i in rand_order:\n",
    "        dV, da, dW, db = mlp_gradient(x_train[i,:], t_train[i], V, a, W, b)\n",
    "        W = W + np.multiply(lr,dW)\n",
    "        b = b + np.multiply(lr,db)\n",
    "        V = V + np.multiply(lr,dV)\n",
    "        a = a + np.multiply(lr,a)\n",
    "    return V, a, W, b\n",
    "\n",
    "def gaussian_prior(shape):\n",
    "    \"\"\"Creates a Gaussian prior for a weight matrix\"\"\"\n",
    "    bound = 4.*np.sqrt(6./(np.sum(shape)))\n",
    "    return np.random.uniform(low=-bound, high=bound, size=shape)\n",
    "\n",
    "def train_mlp(iterations, layer_size):\n",
    "    \"\"\"Trains the V, a, W, b parameters of an MLP model\"\"\"\n",
    "    # Hyper parameter\n",
    "    L = layer_size # elements in hidden layer\n",
    "    input_size = shape(x_train)[1]\n",
    "    output_size = 10\n",
    "\n",
    "    # The model parameters to be trained\n",
    "    # Weights are initialized with a strong Gaussian prior\n",
    "    V = gaussian_prior([input_size, L])\n",
    "    a = np.zeros(L)\n",
    "    W = gaussian_prior([L, output_size])\n",
    "    b = np.zeros(output_size)\n",
    "\n",
    "    # Train the model\n",
    "    for i in range(0, iterations):\n",
    "        V, a, W, b = mlp_sgd_iter(x_train, t_train, V, a, W, b)\n",
    "        print \"Trained iteration \"+str(i)\n",
    "        \n",
    "    return V, a, W, b"
   ]
  },
  {
   "cell_type": "code",
   "execution_count": 6,
   "metadata": {
    "collapsed": false
   },
   "outputs": [
    {
     "name": "stdout",
     "output_type": "stream",
     "text": [
      "Trained iteration 0\n",
      "Trained iteration 1\n",
      "Trained iteration 2\n",
      "Trained iteration 3\n",
      "Trained iteration 4\n",
      "Trained iteration 5\n",
      "Trained iteration 6\n",
      "Trained iteration 7\n",
      "Error: failed 203 out of 10000 = 2.03%\n"
     ]
    }
   ],
   "source": [
    "# Train model (time consuming)\n",
    "V, a, W, b = train_mlp(8, 200)\n",
    "\n",
    "# PREDICT\n",
    "def predict(x, V, a, W, b):\n",
    "    \"\"\"Predict t vector for 1 sample given an MLP model\"\"\"\n",
    "    h = np.asarray(sigmoid_vec(np.dot(V.T, x) + a))\n",
    "    return np.dot(W.T, h) + b\n",
    "\n",
    "# ERROR RATE\n",
    "# Calc performance on the test set\n",
    "failed = 0\n",
    "for idx,x in enumerate(x_test):\n",
    "    pred = predict(x, V, a, W, b)\n",
    "    pred_class = np.where(pred == np.max(pred))[0]\n",
    "    if (pred_class != t_test[idx]):\n",
    "        failed += 1\n",
    "failed_perc = 1.0*failed/len(t_test)*100.0\n",
    "print \"Error: failed %s out of %s = %s%%\"%(failed, len(t_test), failed_perc)"
   ]
  },
  {
   "cell_type": "markdown",
   "metadata": {},
   "source": [
    "### 2.3.1. Less than 250 misclassifications on the test set (10 bonus points)\n",
    "\n",
    "You receive an additional 10 bonus points if you manage to train a model with very high accuracy: at most 2.5% misclasified digits on the test set. Note that the test set contains 10000 digits, so you model should misclassify at most 250 digits. This should be achievable with a MLP model with one hidden layer. See results of various models at : `http://yann.lecun.com/exdb/mnist/index.html`. To reach such a low accuracy, you probably need to have a very high $L$ (many hidden units), probably $L > 200$, and apply a strong Gaussian prior on the weights. In this case you are allowed to use the validation set for training.\n",
    "You are allowed to add additional layers, and use convolutional networks, although that is probably not required to reach 2.5% misclassifications."
   ]
  },
  {
   "cell_type": "code",
   "execution_count": null,
   "metadata": {
    "collapsed": false
   },
   "outputs": [],
   "source": [
    "# Using a strong Gaussian prior, 8 iterations, 200 hidden units and learning rate of 0.1\n",
    "# the error rate on test_set is 2.03% (training the model takes about 12 minutes)"
   ]
  }
 ],
 "metadata": {
  "kernelspec": {
   "display_name": "Python 2",
   "language": "python",
   "name": "python2"
  },
  "language_info": {
   "codemirror_mode": {
    "name": "ipython",
    "version": 2
   },
   "file_extension": ".py",
   "mimetype": "text/x-python",
   "name": "python",
   "nbconvert_exporter": "python",
   "pygments_lexer": "ipython2",
   "version": "2.7.9"
  }
 },
 "nbformat": 4,
 "nbformat_minor": 0
}
